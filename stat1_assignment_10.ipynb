{
 "cells": [
  {
   "cell_type": "markdown",
   "metadata": {},
   "source": [
    "# Calculate the mean, median, mode and standard deviation for the problem statements 1& 2."
   ]
  },
  {
   "cell_type": "markdown",
   "metadata": {},
   "source": [
    "## Problem Statement 1:\n",
    "The marks awarded for an assignment set for a Year 8 class of 20 students were as\n",
    "follows:\n",
    "6 7 5 7 7 8 7 6 9 7 4 10 6 8 8 9 5 6 4 8"
   ]
  },
  {
   "cell_type": "code",
   "execution_count": 1,
   "metadata": {},
   "outputs": [],
   "source": [
    "import numpy as np\n",
    "from scipy import stats"
   ]
  },
  {
   "cell_type": "code",
   "execution_count": 2,
   "metadata": {},
   "outputs": [
    {
     "name": "stdout",
     "output_type": "stream",
     "text": [
      "The mean of the marks is  6.85\n",
      "The median of the marks is  7.0\n",
      "The mode of the marks is [7] that occured [5] times here\n",
      "The standard deviation of the marks is  1.5898113095584647\n"
     ]
    }
   ],
   "source": [
    "arr=[int(elem) for elem in \"6 7 5 7 7 8 7 6 9 7 4 10 6 8 8 9 5 6 4 8\".split(' ')]\n",
    "print(\"The mean of the marks is \",np.mean(arr))\n",
    "print(\"The median of the marks is \",np.median(arr))\n",
    "print(\"The mode of the marks is {} that occured {} times here\".format(*stats.mode(arr)))\n",
    "print(\"The standard deviation of the marks is \",np.std(arr))"
   ]
  },
  {
   "cell_type": "markdown",
   "metadata": {},
   "source": [
    "## Problem Statement 2:\n",
    "The number of calls from motorists per day for roadside service was recorded for a\n",
    "particular month:\n",
    "28, 122, 217, 130, 120, 86, 80, 90, 140, 120, 70, 40, 145, 113, 90, 68, 174, 194, 170,\n",
    "100, 75, 104, 97, 75,\n",
    "123, 100, 75, 104, 97, 75, 123, 100, 89, 120, 109"
   ]
  },
  {
   "cell_type": "code",
   "execution_count": 3,
   "metadata": {},
   "outputs": [],
   "source": [
    "data=\"28, 122, 217, 130, 120, 86, 80, 90, 140, 120, 70, 40, 145, 113, 90, 68, 174, 194, 170, 100, 75, 104, 97, 75, 123, 100, 75, 104, 97, 75, 123, 100, 89, 120, 109\""
   ]
  },
  {
   "cell_type": "code",
   "execution_count": 4,
   "metadata": {},
   "outputs": [
    {
     "name": "stdout",
     "output_type": "stream",
     "text": [
      "The mean of the record is  107.51428571428572\n",
      "The median of the record is  100.0\n",
      "The mode of the record is [75] that occured [4] times here\n",
      "The standard deviation of the record is  38.77287080168403\n"
     ]
    }
   ],
   "source": [
    "arr=[int(elem) for elem in data.split(', ')]\n",
    "print(\"The mean of the record is \",np.mean(arr))\n",
    "print(\"The median of the record is \",np.median(arr))\n",
    "print(\"The mode of the record is {} that occured {} times here\".format(*stats.mode(arr)))\n",
    "print(\"The standard deviation of the record is \",np.std(arr))"
   ]
  },
  {
   "cell_type": "markdown",
   "metadata": {},
   "source": [
    "## Problem Statement 3:\n",
    "The number of times I go to the gym in weekdays, are given below along with its\n",
    "associated probability:\n",
    "x = 0, 1, 2, 3, 4, 5\n",
    "f(x) = 0.09, 0.15, 0.40, 0.25, 0.10, 0.01\n",
    "Calculate the mean no. of workouts in a week. Also evaluate the variance involved in\n",
    "it."
   ]
  },
  {
   "cell_type": "code",
   "execution_count": 5,
   "metadata": {},
   "outputs": [],
   "source": [
    "x=\"0, 1, 2, 3, 4, 5\"\n",
    "f=\"0.09, 0.15, 0.40, 0.25, 0.10, 0.01\""
   ]
  },
  {
   "cell_type": "code",
   "execution_count": 6,
   "metadata": {},
   "outputs": [],
   "source": [
    "x=[int(elem) for elem in x.split(', ')]\n",
    "f=[float(elem) for elem in f.split(', ')]"
   ]
  },
  {
   "cell_type": "code",
   "execution_count": 7,
   "metadata": {},
   "outputs": [],
   "source": [
    "x=np.array(x)\n",
    "f=np.array(f)"
   ]
  },
  {
   "cell_type": "code",
   "execution_count": 8,
   "metadata": {},
   "outputs": [
    {
     "name": "stdout",
     "output_type": "stream",
     "text": [
      "The reqd. mean is  2.15\n",
      "The reqd. variance is  1.2275\n"
     ]
    }
   ],
   "source": [
    "m=np.dot(x,f)\n",
    "print(\"The reqd. mean is \",m)\n",
    "y=x-m\n",
    "v=np.dot(y**2,f)\n",
    "print(\"The reqd. variance is \",v)"
   ]
  },
  {
   "cell_type": "markdown",
   "metadata": {},
   "source": [
    "## Problem Statement 4:\n",
    "Let the continuous random variable D denote the diameter of the hole drilled in an\n",
    "aluminum sheet. The target diameter to be achieved is 12.5mm. Random\n",
    "disturbances in the process often result in inaccuracy.\n",
    "Historical data shows that the distribution of D can be modelled by the PDF (𝑑) =\n",
    "20𝑒−20(𝑑−12.5), 𝑑 ≥ 12.5. If a part with diameter > 12.6 mm needs to be scrapped,\n",
    "what is the proportion of those parts? What is the CDF when the diameter is of 11\n",
    "mm? What is your conclusion regarding the proportion of scraps?"
   ]
  },
  {
   "cell_type": "code",
   "execution_count": 9,
   "metadata": {},
   "outputs": [],
   "source": [
    "from scipy.integrate import quad"
   ]
  },
  {
   "cell_type": "code",
   "execution_count": 10,
   "metadata": {},
   "outputs": [
    {
     "name": "stdout",
     "output_type": "stream",
     "text": [
      "The proportion of those parts with diameter > 12.6mm is: 0.13533528323661398\n",
      "The CDF when the diameter is of 11mm is 0\n",
      "The proportion of the parts between 12.5 and 12.6 is: 0.8646647167633718\n",
      "The proportion of the parts > 12.6 and between 12.5 and 12.6 is: 0.9999999999999858\n",
      "Conclusion : The proportion of the parts greater than 12.5 is nearly equal to 1, and that the proportion of the parts lesser than 12.5 is 0\n"
     ]
    }
   ],
   "source": [
    "def p_func(d):\n",
    "    return (20*np.exp(-20*(d-12.5)))\n",
    "ans=quad(p_func,a=12.6,b=np.inf)[0]\n",
    "#integrating to find ----P(X>12.6)\n",
    "print(\"The proportion of those parts with diameter > 12.6mm is:\",ans)\n",
    "#If d<12.5, the value of pdf(d)=0\n",
    "print(\"The CDF when the diameter is of 11mm is 0\")\n",
    "#P(X<12.5)=0\n",
    "ans1=quad(p_func,a=12.5,b=12.6)[0]\n",
    "print(\"The proportion of the parts between 12.5 and 12.6 is:\",ans1)\n",
    "print(\"The proportion of the parts > 12.6 and between 12.5 and 12.6 is:\",ans+ans1)\n",
    "print(\"Conclusion : The proportion of the parts greater than 12.5 is nearly equal to 1, and that the proportion of the parts lesser than 12.5 is 0\")"
   ]
  },
  {
   "cell_type": "markdown",
   "metadata": {},
   "source": [
    "## Problem Statement 5:\n",
    "A company manufactures LED bulbs with a faulty rate of 30%. If I randomly select 6\n",
    "chosen LEDs, what is the probability of having 2 faulty LEDs in my sample?\n",
    "Calculate the average value of this process. Also evaluate the standard deviation\n",
    "associated with it."
   ]
  },
  {
   "cell_type": "code",
   "execution_count": 11,
   "metadata": {},
   "outputs": [
    {
     "name": "stdout",
     "output_type": "stream",
     "text": [
      "Probability of having 2 faulty LEDs : 0.32413499999999995\n"
     ]
    }
   ],
   "source": [
    "#Probability of getting 2 faulty out of 6 trials\n",
    "#faulty rate is 30% i.e, probability being faulty is 30/100 i,e. 0.3\n",
    "from scipy.stats import binom\n",
    "prob=binom.pmf(k=2,n=6,p=0.3)\n",
    "print(\"Probability of having 2 faulty LEDs :\",prob)"
   ]
  },
  {
   "cell_type": "code",
   "execution_count": 12,
   "metadata": {},
   "outputs": [
    {
     "name": "stdout",
     "output_type": "stream",
     "text": [
      "mean or average will be  1.7999999999999998\n",
      "standard deviation will be  1.1224972160321822\n"
     ]
    }
   ],
   "source": [
    "import math \n",
    "mean,var=binom.stats(n=6,p=0.3)\n",
    "print('mean or average will be ',mean)\n",
    "print(\"standard deviation will be \",math.sqrt(var))"
   ]
  },
  {
   "cell_type": "markdown",
   "metadata": {},
   "source": [
    "## Problem Statement 6:\n",
    "Gaurav and Barakha are both preparing for entrance exams. Gaurav attempts to\n",
    "solve 8 questions per day with a correction rate of 75%, while Barakha averages\n",
    "around 12 questions per day with a correction rate of 45%. What is the probability\n",
    "that each of them will solve 5 questions correctly? What happens in cases of 4 and 6\n",
    "correct solutions? What do you infer from it? What are the two main governing\n",
    "factors affecting their ability to solve questions correctly? Give a pictorial\n",
    "representation of the same to validate your answer."
   ]
  },
  {
   "cell_type": "code",
   "execution_count": 13,
   "metadata": {},
   "outputs": [
    {
     "name": "stdout",
     "output_type": "stream",
     "text": [
      "Probability of Gaurav solving 5 questions correctly = 0.21045\n",
      "Probability of Barakha solving 5 questions correctly = 0.2244\n",
      "Probability of Gaurav solving 4 questions correctly = 0.0869\n",
      "Probability of Barakha solving 4 questions correctly= 0.17055\n",
      "Probability of Gaurav solving 6 questions correctly = 0.30345\n",
      "Probability of Barakha solving 6 questions correctly = 0.21035\n"
     ]
    }
   ],
   "source": [
    "gaurav_dist=np.random.binomial(8,0.75,20000)\n",
    "barakha_dist=np.random.binomial(12,0.45,20000)\n",
    "print(\"Probability of Gaurav solving 5 questions correctly =\",(np.sum(gaurav_dist==5))/20000)\n",
    "print(\"Probability of Barakha solving 5 questions correctly =\",(np.sum(barakha_dist==5))/20000)\n",
    "print(\"Probability of Gaurav solving 4 questions correctly =\",(np.sum(gaurav_dist==4))/20000)\n",
    "print(\"Probability of Barakha solving 4 questions correctly=\",(np.sum(barakha_dist==4))/20000)\n",
    "print(\"Probability of Gaurav solving 6 questions correctly =\",(np.sum(gaurav_dist==6))/20000)\n",
    "print(\"Probability of Barakha solving 6 questions correctly =\",(np.sum(barakha_dist==6))/20000)"
   ]
  },
  {
   "cell_type": "code",
   "execution_count": 14,
   "metadata": {},
   "outputs": [],
   "source": [
    "x1=list(range(9))\n",
    "x2=list(range(13))\n",
    "gaurav_prob=[np.sum(gaurav_dist==i)/20000 for i in range(9)]\n",
    "barakha_prob=[np.sum(barakha_dist==i)/20000 for i in range(13)]"
   ]
  },
  {
   "cell_type": "code",
   "execution_count": 15,
   "metadata": {},
   "outputs": [
    {
     "data": {
      "text/plain": [
       "Text(0.5, 1.0, 'Probability distribution of Gaurav and Barakha ')"
      ]
     },
     "execution_count": 15,
     "metadata": {},
     "output_type": "execute_result"
    },
    {
     "data": {
      "image/png": "[encoded data removed]",
      "text/plain": [
       "<Figure size 432x288 with 1 Axes>"
      ]
     },
     "metadata": {
      "needs_background": "light"
     },
     "output_type": "display_data"
    }
   ],
   "source": [
    "import matplotlib.pyplot as plt\n",
    "plt.plot(x1,gaurav_prob,label=\"Gaurav\",color=\"Green\")\n",
    "plt.plot(x2,barakha_prob,label=\"Barakha\",color=\"Blue\")\n",
    "plt.xlabel(\"Number of correct questions: x\")\n",
    "plt.ylabel(\"Probability: P(x)\")\n",
    "plt.legend();\n",
    "plt.title(\"Probability distribution of Gaurav and Barakha \")"
   ]
  },
  {
   "cell_type": "markdown",
   "metadata": {},
   "source": [
    "## Problem Statement 7:\n",
    "Customers arrive at a rate of 72 per hour to my shop. What is the probability of 𝑘\n",
    "customers arriving in 4 minutes? a) 5 customers, b) not more than 3 customers, c)\n",
    "more than 3 customers. Give a pictorial representation of the same to validate your\n",
    "answer."
   ]
  },
  {
   "cell_type": "code",
   "execution_count": 16,
   "metadata": {},
   "outputs": [
    {
     "name": "stdout",
     "output_type": "stream",
     "text": [
      "The probability of 5 customers arriving = 0.176\n",
      "The probability of not more than 3 customers = 0.285\n",
      "The probability of more than 3 customers = 0.715\n"
     ]
    },
    {
     "data": {
      "text/plain": [
       "<matplotlib.axes._subplots.AxesSubplot at 0x10cb1a56d08>"
      ]
     },
     "execution_count": 16,
     "metadata": {},
     "output_type": "execute_result"
    },
    {
     "data": {
      "image/png": "[encoded data removed]",
      "text/plain": [
       "<Figure size 432x288 with 1 Axes>"
      ]
     },
     "metadata": {
      "needs_background": "light"
     },
     "output_type": "display_data"
    }
   ],
   "source": [
    "import seaborn as sns\n",
    "mean_v_4mins=(72/60)*4\n",
    "dist=np.random.poisson(mean_v_4mins,1000)\n",
    "prob_5=np.sum(dist==5)/1000\n",
    "prob_less_than_equal_3=np.sum(dist<=3)/1000\n",
    "prob_more_3=np.sum(dist>3)/1000\n",
    "print(\"The probability of 5 customers arriving = {}\".format(prob_5))\n",
    "print('The probability of not more than 3 customers = {}'.format(prob_less_than_equal_3))\n",
    "print(\"The probability of more than 3 customers = {}\".format(prob_more_3))\n",
    "sns.distplot(dist,hist=False,color='red')"
   ]
  },
  {
   "cell_type": "markdown",
   "metadata": {},
   "source": [
    "## Problem Statement 8:\n",
    "I work as a data analyst in Aeon Learning Pvt. Ltd. After analyzing data, I make\n",
    "reports, where I have the efficiency of entering 77 words per minute with 6 errors per\n",
    "hour. What is the probability that I will commit 2 errors in a 455-word financial report?\n",
    "What happens when the no. of words increases/decreases (in case of 1000 words,\n",
    "255 words)?\n",
    "How is the 𝜆 affected?\n",
    "How does it influence the PMF?\n",
    "Give a pictorial representation of the same to validate your answer. "
   ]
  },
  {
   "cell_type": "code",
   "execution_count": 17,
   "metadata": {},
   "outputs": [
    {
     "name": "stdout",
     "output_type": "stream",
     "text": [
      "The probability of 2 errors in a 455-word financial report =  0.101\n"
     ]
    }
   ],
   "source": [
    "t_minute=455/77\n",
    "errors_per_min=6/60 \n",
    "dist=np.random.poisson(t_minute*errors_per_min,1000)\n",
    "print(\"The probability of 2 errors in a 455-word financial report = \",np.sum(dist==2)/1000)"
   ]
  },
  {
   "cell_type": "code",
   "execution_count": 18,
   "metadata": {},
   "outputs": [
    {
     "data": {
      "image/png": "[encoded data removed]",
      "text/plain": [
       "<Figure size 432x288 with 1 Axes>"
      ]
     },
     "metadata": {
      "needs_background": "light"
     },
     "output_type": "display_data"
    }
   ],
   "source": [
    "no_of_words=[100,255,455,1000,1500]\n",
    "errors_per_min=6/60 \n",
    "prob=[]\n",
    "lamda=[]\n",
    "for i in no_of_words:\n",
    "    errors=(i/77)*errors_per_min\n",
    "    dist=np.random.poisson(errors,1000)\n",
    "    prob.append(np.sum(dist==2)/1000)\n",
    "    lamda.append(errors)\n",
    "plt.plot(no_of_words,prob,label='probability graph',color=\"Orange\")\n",
    "plt.xlabel(\"Number of Words Typing\")\n",
    "plt.ylabel(\"Probability of two errors\")\n",
    "plt.legend();"
   ]
  },
  {
   "cell_type": "code",
   "execution_count": 19,
   "metadata": {},
   "outputs": [
    {
     "data": {
      "image/png": "[encoded data removed]",
      "text/plain": [
       "<Figure size 432x288 with 1 Axes>"
      ]
     },
     "metadata": {
      "needs_background": "light"
     },
     "output_type": "display_data"
    }
   ],
   "source": [
    "plt.plot(no_of_words,lamda,label='lamda',color=\"Green\")\n",
    "plt.xlabel(\"Number of Words Typing\")\n",
    "plt.ylabel(\"lamda\")\n",
    "plt.legend();"
   ]
  },
  {
   "cell_type": "code",
   "execution_count": 20,
   "metadata": {},
   "outputs": [
    {
     "name": "stdout",
     "output_type": "stream",
     "text": [
      "As Number of Words Typing increases,lamda also increases linearly.\n"
     ]
    }
   ],
   "source": [
    "print('As Number of Words Typing increases,lamda also increases linearly.')"
   ]
  },
  {
   "cell_type": "markdown",
   "metadata": {},
   "source": [
    "## Problem Statement 9:\n",
    "Let the continuous random variable D denote the diameter of the hole drilled in an\n",
    "aluminum sheet. The target diameter to be achieved is 12.5mm. Random\n",
    "disturbances in the process often result in inaccuracy.\n",
    "Historical data shows that the distribution of D can be modelled by the PDF, f(d) =\n",
    "20e−20(d−12.5), d ≥ 12.5. If a part with diameter > 12.6 mm needs to be scrapped,\n",
    "what is the proportion of those parts? What is the CDF when the diameter is of 11\n",
    "mm?\n",
    "What is the conclusion of this experiment? "
   ]
  },
  {
   "cell_type": "code",
   "execution_count": 21,
   "metadata": {},
   "outputs": [
    {
     "name": "stdout",
     "output_type": "stream",
     "text": [
      "same as problem 4\n"
     ]
    }
   ],
   "source": [
    "print('same as problem 4')"
   ]
  },
  {
   "cell_type": "markdown",
   "metadata": {},
   "source": [
    "## Problem Statement 10:\n",
    "Please compute the following:\n",
    "a) P(Z > 1.26), . P(Z < −0.86), P(Z > −1.37), P(−1.25 < Z < 0.37), . P(Z ≤ −4.6)\n",
    "b) Find the value 𝑧 such that 𝑃(𝑍 > 𝑧) = 0.05\n",
    "c) Find the value of 𝑧 such that 𝑃(−𝑧 < 𝑍 < 𝑧) = 0.99"
   ]
  },
  {
   "cell_type": "code",
   "execution_count": 22,
   "metadata": {},
   "outputs": [
    {
     "name": "stdout",
     "output_type": "stream",
     "text": [
      "P (Z>1.26) :  0.10383468112130045\n",
      "P (Z<−0.86) :  0.1948945212518084\n",
      "P (Z>−1.37) :  0.914656549178033\n",
      "P (−1.25<Z<0.37) :  0.5386589811336914\n",
      "P (Z≤−4.6) :  2.1124547024964357e-06\n",
      "Value 𝑧 such that 𝑃 (𝑍>𝑧) = 0.05 :  1.6448536269514729\n",
      "Value of 𝑧 such that 𝑃 (−𝑧<𝑍<𝑧) = 0.99 :  2.3263478740408408\n"
     ]
    }
   ],
   "source": [
    "print(\"P (Z>1.26) : \",1-(stats.norm.cdf(1.26)))\n",
    "print(\"P (Z<−0.86) : \",stats.norm.cdf(-0.86))\n",
    "print(\"P (Z>−1.37) : \",1-(stats.norm.cdf(-1.37)))\n",
    "print(\"P (−1.25<Z<0.37) : \",(stats.norm.cdf(0.37)-stats.norm.cdf(-1.25)))\n",
    "print(\"P (Z≤−4.6) : \",1-(stats.norm.cdf(4.6)))\n",
    "print(\"Value 𝑧 such that 𝑃 (𝑍>𝑧) = 0.05 : \",np.absolute(stats.norm.ppf(0.05)))\n",
    "print(\"Value of 𝑧 such that 𝑃 (−𝑧<𝑍<𝑧) = 0.99 : \",stats.norm.ppf(0.99))"
   ]
  },
  {
   "cell_type": "markdown",
   "metadata": {},
   "source": [
    "## Problem Statement 11:\n",
    "The current flow in a copper wire follow a normal distribution with a mean of 10 𝑚A\n",
    "and a variance of 4 (𝑚𝐴)2.\n",
    "What is the probability that a current measurement will exceed 13 𝑚𝐴? What is the\n",
    "probability that a current measurement is between 9 and 11mA? Determine the\n",
    "current measurement which has a probability of 0.98."
   ]
  },
  {
   "cell_type": "code",
   "execution_count": 23,
   "metadata": {},
   "outputs": [
    {
     "name": "stdout",
     "output_type": "stream",
     "text": [
      "Probability when current measurement will exceed 13 𝑚𝐴: 0.06680720126885809\n",
      "probability when current measurement is between 9 and 11mA: 0.38292492254802624\n",
      "current measurement which has a probability of 0.98: 14.107497821263646\n"
     ]
    }
   ],
   "source": [
    "mean=10\n",
    "std=2\n",
    "print(\"Probability when current measurement will exceed 13 𝑚𝐴:\",1-(stats.norm.cdf(x=13,loc=mean,scale=std)))\n",
    "print(\"probability when current measurement is between 9 and 11mA:\",(stats.norm.cdf(x=11,loc=mean,scale=std)-stats.norm.cdf(x=9,loc=mean,scale=std)))\n",
    "print(\"current measurement which has a probability of 0.98:\",stats.norm.ppf(q=0.98,loc=mean,scale=std))"
   ]
  },
  {
   "cell_type": "markdown",
   "metadata": {},
   "source": [
    "## Problem Statement 12:\n",
    "The shaft in a piston has its diameter normally distributed with a mean of 0.2508 inch\n",
    "and a standard deviation of 0.0005 inch. The specifications of the shaft are 0.2500 ∓\n",
    "0.0015 inch. What proportion of shafts are in sync with the specifications? If the\n",
    "process is centered so that the mean is equal to the target value of 0.2500, what\n",
    "proportion of shafts"
   ]
  },
  {
   "cell_type": "code",
   "execution_count": 24,
   "metadata": {},
   "outputs": [
    {
     "name": "stdout",
     "output_type": "stream",
     "text": [
      "Proportion of shafts in sync with the specifications are: 0.91924122831152\n",
      "Proportion of shafts in sync with the specifications after the process is centered is: 0.9973002039367398\n"
     ]
    }
   ],
   "source": [
    "mean=0.2508\n",
    "std=0.0005\n",
    "l1=0.2500-0.0015\n",
    "l2=0.2500+0.0015\n",
    "print(\"Proportion of shafts in sync with the specifications are:\",\n",
    "      (stats.norm.cdf(x=l2,loc=mean,scale=std)-stats.norm.cdf(x=l1,loc=mean,scale=std)))\n",
    "new_mean=0.2500\n",
    "print(\"Proportion of shafts in sync with the specifications after the process is centered is:\",\n",
    "      (stats.norm.cdf(x=l2,loc=new_mean,scale=std)-stats.norm.cdf(x=l1,loc=new_mean,scale=std)))"
   ]
  },
  {
   "cell_type": "code",
   "execution_count": null,
   "metadata": {},
   "outputs": [],
   "source": []
  }
 ],
 "metadata": {
  "kernelspec": {
   "display_name": "Python 3",
   "language": "python",
   "name": "python3"
  },
  "language_info": {
   "codemirror_mode": {
    "name": "ipython",
    "version": 3
   },
   "file_extension": ".py",
   "mimetype": "text/x-python",
   "name": "python",
   "nbconvert_exporter": "python",
   "pygments_lexer": "ipython3",
   "version": "3.7.6"
  }
 },
 "nbformat": 4,
 "nbformat_minor": 4
}
